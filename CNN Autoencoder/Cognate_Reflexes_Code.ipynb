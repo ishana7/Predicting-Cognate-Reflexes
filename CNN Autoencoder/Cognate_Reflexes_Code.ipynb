{
  "cells": [
    {
      "cell_type": "markdown",
      "metadata": {
        "id": "0EuDH_2FxjMd"
      },
      "source": [
        "**COGNATE REFLEXES PREDICTION**"
      ]
    },
    {
      "cell_type": "code",
      "execution_count": 72,
      "metadata": {
        "id": "N90cMy8EYw6N"
      },
      "outputs": [],
      "source": [
        "#importing appropriate modules\n",
        "import json\n",
        "import logging\n",
        "import os\n",
        "import random\n",
        "import time\n",
        "from typing import Sequence\n",
        "\n",
        "from absl import app\n",
        "from absl import flags\n",
        "import numpy as np\n",
        "import tensorflow as tf\n",
        "from tensorflow import keras\n",
        "from tensorflow.keras import layers"
      ]
    },
    {
      "cell_type": "code",
      "execution_count": 73,
      "metadata": {
        "id": "kLWlTZ5gY9nu"
      },
      "outputs": [],
      "source": [
        "#building the cognate sets and the vocab from the training file.\n",
        "def buildDataset(data_dir,train_path):\n",
        "  #create vocabulary\n",
        "  #initialize empty vocabulary\n",
        "  vocabulary = set()\n",
        "  cogsets = []\n",
        "  #training file path\n",
        "  filepath = os.path.join(data_dir, train_path)\n",
        "  print('Get Training data :', filepath)\n",
        "  #open training file\n",
        "  with open(filepath, 'r', encoding='utf-8') as fp:\n",
        "    next(fp)\n",
        "    for line in fp:\n",
        "      parts = tuple(line.strip('\\n').split('\\t')[1:])\n",
        "      for p in parts:\n",
        "        for c in p.split():\n",
        "          vocabulary.add(c)\n",
        "      cogsets.append([p.strip() for p in parts])\n",
        "  #adding possible extra words\n",
        "  vocabulary = ['<PAD>', '<EOS>', '<BOS>', '<UNK>', '<TARGET>', '<BLANK>'] + sorted(\n",
        "      list(vocabulary))\n",
        "  # print(\"COGSETS:\",cogsets)\n",
        "  # print(\"VOCAB:\",vocabulary)\n",
        "  #returning cognets and vocabulary\n",
        "  return cogsets, vocabulary"
      ]
    },
    {
      "cell_type": "code",
      "execution_count": 74,
      "metadata": {
        "id": "nMfM0EGRZUzP"
      },
      "outputs": [],
      "source": [
        "#function to read from hyper parameters file\n",
        "def hyperparameters(checkpoint_dir):\n",
        "  hyperparam_path = os.path.join(checkpoint_dir, 'hparams.json')\n",
        "  with open(hyperparam_path, 'r') as fp:\n",
        "    hyperparams = json.load(fp)\n",
        "    # print(\"HPARAMS:\",hyperparams,\"\\n\")\n",
        "    return hyperparams"
      ]
    },
    {
      "cell_type": "code",
      "execution_count": 75,
      "metadata": {
        "id": "zk7nibQeaDqc"
      },
      "outputs": [],
      "source": [
        "def extend_dataset(cognatesets):\n",
        "  #each of our datasert has multiple languages we are copying vocab for each dataset \n",
        "  #sampleList would be a list of list of vocabs for each language\n",
        "  number_languages = len(cognatesets[0])\n",
        "  sampleList = []\n",
        "  for val in cognatesets:\n",
        "    sample = []\n",
        "    for i in range(number_languages):\n",
        "      if val[i]:\n",
        "        sample.append(val[i])\n",
        "      else:\n",
        "        sample.append('<BLANK>')\n",
        "    sampleList.append(sample)\n",
        "  random.shuffle(sampleList)\n",
        "  return sampleList"
      ]
    },
    {
      "cell_type": "code",
      "execution_count": 76,
      "metadata": {
        "id": "O-YTgUDhYxcS"
      },
      "outputs": [],
      "source": [
        "#we are using function to take trainnig data mask few words convert it into tensor and return\n",
        "def create_dataset_forTrain(samples, blen, number_languages, maximumlen, charecterToIndex):\n",
        "  def language_generator():\n",
        "    while True:\n",
        "      for ic in samples:\n",
        "        inp = []\n",
        "        result = []\n",
        "        inpHiddenVal = []\n",
        "        targetMask = []\n",
        "        correct = [i for i in range(len(ic)) if ic[i] != '<BLANK>']\n",
        "        number = random.randint(1, len(correct))\n",
        "        exist = random.sample(correct, number)\n",
        "        for i in range(len(ic)):\n",
        "          template = [charecterToIndex['<BLANK>']] * maximumlen\n",
        "          seq = [charecterToIndex['<BOS>']] + [\n",
        "              charecterToIndex[c] if c in charecterToIndex else charecterToIndex['<UNK>']\n",
        "              for c in ic[i].split()\n",
        "          ] + [charecterToIndex['<EOS>']]\n",
        "          for j in range(min(len(seq), maximumlen)):\n",
        "            template[j] = seq[j]\n",
        "          result.append(template)\n",
        "          inp.append(template)\n",
        "          if i in correct:\n",
        "            targetMask.append([1.0] * maximumlen)\n",
        "          else:\n",
        "            targetMask.append([0.0] * maximumlen)\n",
        "          if i in exist:\n",
        "            inpHiddenVal.append([1.0] * maximumlen)\n",
        "          else:\n",
        "            inpHiddenVal.append([0.0] * maximumlen)\n",
        "        inp = tf.constant([inp], dtype='int32')\n",
        "        result = tf.constant([result], dtype='int32')\n",
        "        inpHiddenVal = tf.constant([inpHiddenVal], dtype='float32')\n",
        "        target_mask = tf.constant([targetMask], dtype='float32')\n",
        "\n",
        "        yield (inp, result, inpHiddenVal, target_mask)\n",
        "\n",
        "  return tf.data.Dataset.from_generator(\n",
        "      language_generator,\n",
        "      output_signature=(tf.TensorSpec(\n",
        "          shape=(blen, number_languages, maximumlen), dtype='int32'),\n",
        "                        tf.TensorSpec(\n",
        "                            shape=(blen, number_languages, maximumlen),\n",
        "                            dtype='int32'),\n",
        "                        tf.TensorSpec(\n",
        "                            shape=(blen, number_languages, maximumlen),\n",
        "                            dtype='float32'),\n",
        "                        tf.TensorSpec(\n",
        "                            shape=(blen, number_languages, maximumlen),\n",
        "                            dtype='float32')))"
      ]
    },
    {
      "cell_type": "code",
      "execution_count": 77,
      "metadata": {
        "id": "DY-LLJt6a2Zi"
      },
      "outputs": [],
      "source": [
        "class Model_Cognet(tf.keras.Model):\n",
        "  \"\"\"The infiller convolutional model.\"\"\"\n",
        "\n",
        "  def __init__(self, vocab_size, hparams, batch_size, nlangs, max_length):\n",
        "    super(Model_Cognet, self).__init__()\n",
        "    self.batch_size = batch_size\n",
        "    self.units = hparams['filters']\n",
        "    self.kernel_width = hparams['kernel_width']\n",
        "    self.vocab_size = vocab_size\n",
        "    self.embedding_dim = hparams['embedding_dim']\n",
        "    self.nlangs = nlangs\n",
        "    self.max_length = max_length\n",
        "    self.scale_pos = hparams['sfactor']\n",
        "\n",
        "    ##-------- Embedding layers in Encoder ------- ##\n",
        "    self.embedding = tf.keras.layers.Embedding(self.vocab_size,self.embedding_dim)\n",
        "\n",
        "    ##-------- ENCODER NETWORK ------- ##\n",
        "      ##-------- Convolution Layer ------- ##\n",
        "    self.convolution1 = tf.keras.layers.Conv2D(filters=self.units, activation='leaky_relu',kernel_size=(nlangs, hparams['kernel_width']),padding='same')\n",
        "      ##-------- Max Pooling ------- ##\n",
        "    self.pooling = tf.keras.layers.MaxPooling2D(2,padding='same')\n",
        "      ##-------- Convolution Layer ------- ##\n",
        "    self.convolution2 = tf.keras.layers.Conv2D(self.units,activation='leaky_relu', kernel_size=(nlangs, hparams['kernel_width']),padding= 'same')\n",
        "\n",
        "    ##-------- DECODER NETWORK ------- ##\n",
        "      ##-------- Convolution Layer ------- ##\n",
        "    self.convolution3 = tf.keras.layers.Conv2D(filters=self.units, activation='leaky_relu',kernel_size=(nlangs, hparams['kernel_width']),padding='same')\n",
        "      ##-------- Upsampling ------- ##\n",
        "    self.upsampling2 = tf.keras.layers.UpSampling2D((2))\n",
        "      ##-------- Convolution Layer ------- ##\n",
        "    self.convolution4 = tf.keras.layers.Conv2D(self.units,activation='leaky_relu', kernel_size=(nlangs, hparams['kernel_width']),padding= 'same')\n",
        "\n",
        "  def call(self, inputs, input_mask, training):\n",
        "    \n",
        "    #Embedding Inputs\n",
        "    inputs = self.embedding(inputs)\n",
        "  \n",
        "    # Encoder\n",
        "    inputs = self.convolution1(inputs)\n",
        "    inputs = self.pooling(inputs)\n",
        "    inputs = self.convolution2(inputs)\n",
        "\n",
        "    #Decoder\n",
        "    inputs = self.convolution3(inputs)\n",
        "    inputs = self.upsampling2(inputs)\n",
        "    logits = self.convolution4(inputs)\n",
        "\n",
        "    return logits"
      ]
    },
    {
      "cell_type": "code",
      "execution_count": 78,
      "metadata": {
        "id": "xeKTPxOJbRB_"
      },
      "outputs": [],
      "source": [
        "@tf.function\n",
        "#calculation of loss\n",
        "def evaluationLoss(input, prediction, mask):\n",
        "  cross_entropy = tf.keras.losses.SparseCategoricalCrossentropy(\n",
        "      from_logits=True, reduction='none')\n",
        "  losses = cross_entropy(y_true=input, y_pred=prediction)\n",
        "  losses = mask * losses\n",
        "  losses = tf.reduce_sum(losses)\n",
        "  return losses"
      ]
    },
    {
      "cell_type": "code",
      "execution_count": 79,
      "metadata": {
        "id": "Vvo-9v-ibPhu"
      },
      "outputs": [],
      "source": [
        "@tf.function\n",
        "def trainperstep(Model_Cognet, optimizer, input, input_mask, target, target_mask):\n",
        "  \"\"\"Single training step.\"\"\"\n",
        "  lossperstep = 0\n",
        "  with tf.GradientTape() as tape:\n",
        "    logits = Model_Cognet(input, input_mask, training=True)\n",
        "    lossperstep = evaluationLoss(target, logits, target_mask)\n",
        "  variables = Model_Cognet.trainable_variables\n",
        "  gradients = tape.gradient(lossperstep, variables)\n",
        "  optimizer.apply_gradients(zip(gradients, variables))\n",
        "  return lossperstep"
      ]
    },
    {
      "cell_type": "code",
      "execution_count": 80,
      "metadata": {
        "id": "UiECAcY_bcci"
      },
      "outputs": [],
      "source": [
        "#this function helps while calculating errors it gives where target starts and ends\n",
        "def evaluate_cognate_set(Model_Cognet, cognateset, chr2idx, max_length):\n",
        "  \"\"\"Evaluates given cognate set.\"\"\"\n",
        "  target_index = 0\n",
        "  inputs = []\n",
        "  input_mask = []\n",
        "  # Find possible target positions\n",
        "  for i, p in enumerate(cognateset):\n",
        "    if p.strip():\n",
        "      if p == '<TARGET>':\n",
        "        target_index = i\n",
        "        inputs.append([chr2idx['<TARGET>']] * max_length)\n",
        "        input_mask.append([0.0] * max_length)\n",
        "      else:\n",
        "        seq = [chr2idx['<BOS>']] + [\n",
        "            chr2idx[c] if c in chr2idx else chr2idx['<UNK>']\n",
        "            for c in p.split()\n",
        "        ] + [chr2idx['<EOS>']]\n",
        "        template = [chr2idx['<BLANK>']] * max_length\n",
        "        for j in range(min(len(seq), max_length)):\n",
        "          template[j] = seq[j]\n",
        "        inputs.append(template)\n",
        "        input_mask.append([1.0] * max_length)\n",
        "    else:\n",
        "      inputs.append([chr2idx['<BLANK>']] * max_length)\n",
        "      input_mask.append([0.0] * max_length)\n",
        "\n",
        "  inputs = tf.constant([inputs], dtype='int32')\n",
        "  input_mask = tf.constant([input_mask], dtype='float32')\n",
        "\n",
        "  logits = Model_Cognet(inputs, input_mask, training=False)\n",
        "  trow = tf.math.argmax(logits[0, target_index, :, :], axis=-1)\n",
        "  return trow.numpy()"
      ]
    },
    {
      "cell_type": "code",
      "execution_count": 81,
      "metadata": {
        "id": "bc-rQcjqbbir"
      },
      "outputs": [],
      "source": [
        "def translate(modelCognate, cognateset, charToIndex, maxLen, indexToChar):\n",
        "  eval = evaluate_cognate_set(modelCognate, cognateset, charToIndex, maxLen)\n",
        "  eval = list(eval)\n",
        "  eval = ' '.join([\n",
        "      indexToChar[x] for x in eval if indexToChar[x] not in\n",
        "      ['<PAD>', '<EOS>', '<BOS>', '<UNK>', '<TARGET>', '<BLANK>']\n",
        "  ])\n",
        "  return eval"
      ]
    },
    {
      "cell_type": "code",
      "execution_count": 82,
      "metadata": {
        "id": "AEMaXzE5mBB_"
      },
      "outputs": [],
      "source": [
        "#trains the model\n",
        "def train_model(data_dir,checkpoint_dir,train_path):\n",
        "  cognatesets, vocab = buildDataset(data_dir,train_path)\n",
        "  chr2idx = {vocab[i]: i for i in range(len(vocab))}\n",
        "  idx2chr = {i: vocab[i] for i in range(len(vocab))}\n",
        "  languages = len(cognatesets[0])\n",
        "  hparams = hyperparameters(checkpoint_dir)\n",
        "  vocab_size = len(vocab)\n",
        "  all_samples = extend_dataset(cognatesets)\n",
        "\n",
        "  steps_per_epoch = 500\n",
        "  batch_size = 1\n",
        "  max_length = 20\n",
        "  #Initially no vocabs are createn so false\n",
        "  vocab_written = False\n",
        "\n",
        "  #calling model\n",
        "  infiller = Model_Cognet(vocab_size, hparams, batch_size, languages, max_length)\n",
        "  optimizer = tf.keras.optimizers.Adam()\n",
        "\n",
        "  if checkpoint_dir:\n",
        "      checkpoint = tf.train.Checkpoint(optimizer=optimizer, infiller=infiller)\n",
        "\n",
        "  logging.info('Training the model ...')\n",
        "  train_dataset = create_dataset_forTrain(all_samples, batch_size, languages,\n",
        "                                      max_length, chr2idx)\n",
        "  err = None\n",
        "\n",
        "  for epoch in range(500):\n",
        "    start = time.time()\n",
        "\n",
        "    tloss = 0\n",
        "\n",
        "    for (_, (input, target, input_mask,\n",
        "             targ_mask)) in enumerate(train_dataset.take(steps_per_epoch)):\n",
        "      loss_per_batch = trainperstep(infiller, optimizer, input, input_mask, target,\n",
        "                              targ_mask)\n",
        "      tloss += loss_per_batch\n",
        "      # print(\"lossssssss\",total_loss)\n",
        "\n",
        "    print('Epoch {} Loss {:.4f}'.format(epoch + 1,\n",
        "                                        tloss / steps_per_epoch))\n",
        "\n",
        "    print('Time taken for 1 epoch {} sec\\n'.format(time.time() - start))\n",
        "\n",
        "    \n",
        "    if checkpoint_dir:\n",
        "      checkpoint.save('checkpoint_dir/best_model.ckpt')\n",
        "      if not vocab_written:\n",
        "        hparams = hyperparameters(checkpoint_dir)\n",
        "        hparams['embedding_dim'] = hparams[\"embedding_dim\"]\n",
        "        hparams['kernel_width'] = hparams[\"kernel_width\"]\n",
        "        hparams['filters'] = hparams[\"filters\"]\n",
        "        hparams['dropout'] = hparams[\"dropout\"]\n",
        "        hparams['nonlinearity'] = hparams[\"nonlinearity\"]\n",
        "        hparams['sfactor'] = hparams[\"sfactor\"]\n",
        "        with open(checkpoint_dir + 'hparams.json', 'w') as vfile:\n",
        "          json.dump(hparams, vfile)\n",
        "        with open(\n",
        "            checkpoint_dir + '/vocab.txt', 'w', encoding='utf-8') as vfile:\n",
        "          for v in vocab:\n",
        "            vfile.write(v + '\\n')\n",
        "        vocab_written = True\n",
        "\n",
        "  logging.info('Done. Shutting down ...')"
      ]
    },
    {
      "cell_type": "code",
      "execution_count": null,
      "metadata": {
        "id": "LuiaBYNzcPyy"
      },
      "outputs": [],
      "source": [
        "train_model('data_dir','checkpoint_dir','training-0.10.tsv')"
      ]
    },
    {
      "cell_type": "code",
      "execution_count": 84,
      "metadata": {
        "id": "4ilsGIsTnaDg"
      },
      "outputs": [],
      "source": [
        "#readin data from aldready created vocab file\n",
        "def vocablist(checkpoint_dir):\n",
        "  file_path = os.path.join(checkpoint_dir, 'vocab.txt')\n",
        "  if not file_path:\n",
        "    raise FileNotFoundError(f'File {file_path} does not exist')\n",
        "  logging.info('Loading vocab from %s ...', file_path)\n",
        "  with open(file_path, 'r', encoding='utf8') as f:\n",
        "    vocab = [symbol.strip() for symbol in f if symbol]\n",
        "  logging.info('%d symbols loaded.', len(vocab))\n",
        "  return vocab"
      ]
    },
    {
      "cell_type": "code",
      "execution_count": 85,
      "metadata": {
        "id": "093fZ15zcRXM"
      },
      "outputs": [],
      "source": [
        "#testing data\n",
        "def test(data_dir,checkpoint_dir):\n",
        "  hparams = hyperparameters(checkpoint_dir)\n",
        "  vocab = vocablist(checkpoint_dir)\n",
        "  chr2idx = {vocab[i]: i for i in range(len(vocab))}\n",
        "  idx2chr = {i: vocab[i] for i in range(len(vocab))}\n",
        "  vocab_size = len(vocab)\n",
        "  batch_size = 1\n",
        "  max_length = 20\n",
        "\n",
        "  test_filepath = os.path.join(data_dir, 'test-0.10.tsv')\n",
        "  preds_filepath = os.path.join(data_dir, 'pred-0.10.tsv')\n",
        "\n",
        "  with open(test_filepath, 'r', encoding='utf-8') as tfile:\n",
        "    languages = len(next(tfile).strip('\\n').split('\\t')) - 1\n",
        "\n",
        "\n",
        "  best_ckpt_path = tf.train.latest_checkpoint(checkpoint_dir)\n",
        "  if not best_ckpt_path:\n",
        "    raise ValueError('No checkpoint available')\n",
        "  logging.info('Restoring from checkpoint %s ...', best_ckpt_path)\n",
        "  infiller = Model_Cognet(vocab_size, hparams, batch_size, languages, max_length)\n",
        "  checkpoint = tf.train.Checkpoint(infiller=infiller)\n",
        "  checkpoint.restore(best_ckpt_path).expect_partial()\n",
        "\n",
        "  logging.info('Generating predictions and saving results...')\n",
        "  with open(preds_filepath, 'w', encoding='utf-8') as predfile:\n",
        "    with open(test_filepath, 'r', encoding='utf-8') as testfile:\n",
        "      # Copy the header.\n",
        "      predfile.write(next(testfile))\n",
        "      for line in testfile:\n",
        "        parts = line.strip('\\n').split('\\t')\n",
        "        testset = ['<TARGET>' if p == '?' else p for p in parts[1:]]\n",
        "        target_index = testset.index('<TARGET>')\n",
        "        pred = translate(infiller, testset, chr2idx, max_length, idx2chr)\n",
        "        row = ['' for p in parts]\n",
        "        row[0] = parts[0]\n",
        "        row[target_index + 1] = pred\n",
        "        predfile.write('\\t'.join(row) + '\\n')"
      ]
    },
    {
      "cell_type": "code",
      "execution_count": 86,
      "metadata": {
        "id": "0kFoAIwwrnNs"
      },
      "outputs": [],
      "source": [
        "test('data_dir','checkpoint_dir')"
      ]
    },
    {
      "cell_type": "code",
      "execution_count": null,
      "metadata": {
        "id": "s8j_UY07tvyn"
      },
      "outputs": [],
      "source": [
        "#import is required for evaluation\n",
        "%pip install lingrex\n",
        "%pip install lingpy"
      ]
    },
    {
      "cell_type": "code",
      "execution_count": 90,
      "metadata": {
        "id": "pFQTxwu8_83x"
      },
      "outputs": [],
      "source": [
        "#lingrex imports\n",
        "from lingrex.util import bleu_score\n",
        "from lingpy import *\n",
        "from lingpy.evaluate.acd import _get_bcubed_score as bcubed_score\n",
        "from tabulate import tabulate\n",
        "from collections import defaultdict\n",
        "from lingpy.sequence.ngrams import get_n_ngrams\n",
        "import math"
      ]
    },
    {
      "cell_type": "code",
      "execution_count": 91,
      "metadata": {
        "id": "2dTmkLgPtzmL"
      },
      "outputs": [],
      "source": [
        "#loads each column of solution and pred file separately\n",
        "def load_files(path):\n",
        "    \"\"\"\n",
        "    Helper function for simplified cognate formats.\n",
        "    \"\"\"\n",
        "    data = csv2list(path, strip_lines=False)\n",
        "    header = data[0]\n",
        "    languages = header[1:]\n",
        "    out = {}\n",
        "    sounds = defaultdict(lambda : defaultdict(list))\n",
        "    for row in data[1:]:\n",
        "        out[row[0]] = {}\n",
        "        for language, entry in zip(languages, row[1:]):\n",
        "            out[row[0]][language] = entry.split()\n",
        "            for i, sound in enumerate(entry.split()):\n",
        "                sounds[sound][language] += [[row[0], i]]\n",
        "    return languages,sounds, out"
      ]
    },
    {
      "cell_type": "code",
      "execution_count": 96,
      "metadata": {
        "id": "9h8nLazmAKig"
      },
      "outputs": [],
      "source": [
        "#evaluating various metrics\n",
        "def compare_words(firstfile, secondfile, report=True):\n",
        "    \"\"\"\n",
        "    Evaluate the predicted and attested words in two datasets.\n",
        "    \"\"\"\n",
        "\n",
        "    (languages, soundsA, first), (languagesB, soundsB, last) = load_files(firstfile), load_files(secondfile)\n",
        "    # print(\"///\",languages, soundsA, first)\n",
        "    all_scores = []\n",
        "    for language in languages:\n",
        "        scores = []\n",
        "        almsA, almsB = [], []\n",
        "        for key in first:\n",
        "            if language in first[key]:\n",
        "                entryA = first[key][language]\n",
        "                if \" \".join(entryA):\n",
        "                    try:\n",
        "                        # print(\"&&&&\",entryA)\n",
        "                        entryB = last[key][language]\n",
        "                        # print(\"####\",entryB)\n",
        "                    except KeyError:\n",
        "                        print(\"Missing entry {0} / {1} / {2}\".format(\n",
        "                            key, language, secondfile))\n",
        "                        entryB = \"\"\n",
        "                    if not entryB:\n",
        "                        entryB = (2 * len(entryA)) * [\"Ø\"]\n",
        "                    # print(entryA)\n",
        "                    # print(entryB)\n",
        "                    almA, almB, _ = nw_align(entryA, entryB)\n",
        "                    almsA += almA\n",
        "                    almsB += almB\n",
        "                    score = 0\n",
        "                    for a, b in zip(almA, almB):\n",
        "                        if a == b and a not in \"Ø?-\":\n",
        "                            pass\n",
        "                        elif a != b:\n",
        "                            score += 1\n",
        "                    scoreD = score / len(almA)\n",
        "                    bleu = bleu_score(entryA, entryB, n=4, trim=False)\n",
        "                    scores += [[key, entryA, entryB, score, scoreD, bleu]]\n",
        "        if scores:\n",
        "            p, r = bcubed_score(almsA, almsB), bcubed_score(almsB, almsA)\n",
        "            fs = 2 * (p*r) / (p+r)\n",
        "            all_scores += [[\n",
        "                language,\n",
        "                sum([row[-3] for row in scores])/len(scores),\n",
        "                sum([row[-2] for row in scores])/len(scores),\n",
        "                fs,\n",
        "                sum([row[-1] for row in scores])/len(scores)]]\n",
        "    all_scores += [[\n",
        "        \"TOTAL\", \n",
        "        sum([row[-4] for row in all_scores])/len(languages),\n",
        "        sum([row[-3] for row in all_scores])/len(languages),\n",
        "        sum([row[-2] for row in all_scores])/len(languages),\n",
        "        sum([row[-1] for row in all_scores])/len(languages),\n",
        "        ]]\n",
        "    if report:\n",
        "        print(\n",
        "                tabulate(\n",
        "                    all_scores, \n",
        "                    headers=[\n",
        "                        \"Language\", \"ED\", \"ED (Normalized)\", \n",
        "                        \"B-Cubed FS\", \"BLEU\"], floatfmt=\".3f\"))\n",
        "    return all_scores"
      ]
    },
    {
      "cell_type": "code",
      "execution_count": null,
      "metadata": {
        "id": "40B-pZRQbqVW"
      },
      "outputs": [],
      "source": [
        "compare_words('data_dir/pred-0.10.tsv','data_dir/solutions-0.10.tsv')"
      ]
    }
  ],
  "metadata": {
    "colab": {
      "collapsed_sections": [],
      "provenance": []
    },
    "kernelspec": {
      "display_name": "Python 3",
      "language": "python",
      "name": "python3"
    },
    "language_info": {
      "codemirror_mode": {
        "name": "ipython",
        "version": 3
      },
      "file_extension": ".py",
      "mimetype": "text/x-python",
      "name": "python",
      "nbconvert_exporter": "python",
      "pygments_lexer": "ipython3",
      "version": "3.9.7"
    },
    "vscode": {
      "interpreter": {
        "hash": "c8376c60763d0532fb7a4c462f5427e7424e26d41c55767d9d476c0454c24711"
      }
    }
  },
  "nbformat": 4,
  "nbformat_minor": 0
}
